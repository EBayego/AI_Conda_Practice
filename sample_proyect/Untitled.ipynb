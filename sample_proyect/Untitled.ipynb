{
 "cells": [
  {
   "cell_type": "code",
   "execution_count": 1,
   "id": "3cffc7f5-202c-4423-bc87-97b79a8acacb",
   "metadata": {},
   "outputs": [
    {
     "name": "stdout",
     "output_type": "stream",
     "text": [
      "Notebook works\n"
     ]
    }
   ],
   "source": [
    "print(\"Notebook works\")"
   ]
  },
  {
   "cell_type": "code",
   "execution_count": 3,
   "id": "a6a39967-d4d7-499a-96a0-eb8e2b81e600",
   "metadata": {},
   "outputs": [],
   "source": [
    "import pandas as pd\n",
    "import numpy as py\n",
    "import matplotlib.pyplot as plt\n",
    "import sklearn"
   ]
  },
  {
   "cell_type": "code",
   "execution_count": 2,
   "id": "ccb232e2-8488-4757-9e52-7d8a41e39ab8",
   "metadata": {},
   "outputs": [
    {
     "name": "stdout",
     "output_type": "stream",
     "text": [
      "All imports work\n"
     ]
    }
   ],
   "source": [
    "print(\"All imports work\")"
   ]
  },
  {
   "cell_type": "code",
   "execution_count": null,
   "id": "88c63dda-90a2-47d2-a425-884841d57b90",
   "metadata": {},
   "outputs": [],
   "source": []
  }
 ],
 "metadata": {
  "kernelspec": {
   "display_name": "Python 3 (ipykernel)",
   "language": "python",
   "name": "python3"
  },
  "language_info": {
   "codemirror_mode": {
    "name": "ipython",
    "version": 3
   },
   "file_extension": ".py",
   "mimetype": "text/x-python",
   "name": "python",
   "nbconvert_exporter": "python",
   "pygments_lexer": "ipython3",
   "version": "3.10.13"
  }
 },
 "nbformat": 4,
 "nbformat_minor": 5
}
